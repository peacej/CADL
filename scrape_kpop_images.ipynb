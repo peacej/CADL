{
 "cells": [
  {
   "cell_type": "code",
   "execution_count": 23,
   "metadata": {},
   "outputs": [],
   "source": [
    "# face similarity using CNNs (Korean post) https://kangbk0120.github.io/articles/2018-02/cnn-celeb"
   ]
  },
  {
   "cell_type": "code",
   "execution_count": null,
   "metadata": {},
   "outputs": [],
   "source": [
    "# https://github.com/YBIGTA/facebigta/tree/master/PreProcessing"
   ]
  },
  {
   "cell_type": "code",
   "execution_count": 55,
   "metadata": {},
   "outputs": [],
   "source": [
    "from icrawler.builtin import GoogleImageCrawler, BingImageCrawler, BaiduImageCrawler"
   ]
  },
  {
   "cell_type": "code",
   "execution_count": 39,
   "metadata": {},
   "outputs": [],
   "source": [
    "import os"
   ]
  },
  {
   "cell_type": "code",
   "execution_count": 50,
   "metadata": {},
   "outputs": [],
   "source": [
    "dirname = 'kpop_profile'"
   ]
  },
  {
   "cell_type": "code",
   "execution_count": 51,
   "metadata": {},
   "outputs": [],
   "source": [
    "dirpath = '/Users/jerry.chi/Documents/preprocess_face/' + dirname"
   ]
  },
  {
   "cell_type": "code",
   "execution_count": 52,
   "metadata": {},
   "outputs": [],
   "source": [
    "try:\n",
    "    os.mkdir(dirpath)\n",
    "    os.chmod(dirpath,0o777)\n",
    "except:\n",
    "    pass"
   ]
  },
  {
   "cell_type": "code",
   "execution_count": 53,
   "metadata": {},
   "outputs": [],
   "source": [
    "try:\n",
    "    os.mkdir(dirpath + '/raw')\n",
    "    os.chmod(dirpath + '/raw',0o777)\n",
    "    os.mkdir(dirpath + '/processed')\n",
    "    os.chmod(dirpath + '/processed',0o777)\n",
    "except:\n",
    "    pass"
   ]
  },
  {
   "cell_type": "code",
   "execution_count": 54,
   "metadata": {},
   "outputs": [
    {
     "name": "stderr",
     "output_type": "stream",
     "text": [
      "2018-12-31 11:22:36,611 - INFO - icrawler.crawler - start crawling...\n",
      "2018-12-31 11:22:36,612 - INFO - icrawler.crawler - starting 1 feeder threads...\n",
      "2018-12-31 11:22:36,614 - INFO - feeder - thread feeder-001 exit\n",
      "2018-12-31 11:22:36,614 - INFO - icrawler.crawler - starting 1 parser threads...\n",
      "2018-12-31 11:22:36,618 - INFO - icrawler.crawler - starting 1 downloader threads...\n",
      "2018-12-31 11:22:37,132 - INFO - parser - parsing result page https://www.google.com/search?q=%EA%B1%B8%EA%B7%B8%EB%A3%B9+%ED%94%84%EB%A1%9C%ED%95%84+%EC%82%AC%EC%A7%84&ijn=0&start=0&tbs=&tbm=isch\n",
      "2018-12-31 11:22:37,473 - INFO - downloader - image #1\thttp://cdnweb01.wikitree.co.kr/webdata/editor/201608/06/img_20160806174351_afc7657b.jpg\n",
      "2018-12-31 11:22:37,873 - INFO - downloader - image #2\thttps://pds.joins.com/news/component/htmlphoto_mmdata/201503/12/htm_20150312142057c010c011.JPG\n",
      "2018-12-31 11:22:38,267 - INFO - downloader - image #3\thttp://dimg.donga.com/wps/SPORTS/IMAGE/2016/12/29/82085092.2.jpg\n",
      "2018-12-31 11:22:38,653 - INFO - downloader - image #4\thttp://img.hankyung.com/photo/201607/BA.11946597.1.jpg\n",
      "2018-12-31 11:22:38,769 - INFO - downloader - image #5\thttps://pds.joins.com/news/component/htmlphoto_mmdata/201703/26/53b83447-69d2-42f0-8ac4-3aa9c0285ee3.jpg\n",
      "2018-12-31 11:22:39,531 - INFO - downloader - image #6\thttp://file3.instiz.net/data/file3/2018/03/02/a/9/2/a92e6c34341047771d8a63935936fada.jpg\n",
      "2018-12-31 11:22:39,922 - INFO - downloader - image #7\thttp://www.newstown.co.kr/news/photo/201803/318606_206676_468.jpg\n",
      "2018-12-31 11:22:40,167 - INFO - downloader - image #8\thttps://pds.joins.com/news/component/stardailynews/201602/26/86721_105234_945.jpg\n",
      "2018-12-31 11:22:41,470 - INFO - downloader - image #9\thttp://postfiles14.naver.net/20160724_221/yeam0528_14692894265343upmg_JPEG/A14V3116-1.jpg?type=w966\n",
      "2018-12-31 11:22:42,540 - INFO - downloader - image #10\thttps://image.fmkorea.com/files/attach/new/20171124/3655109/1681646/846260401/38db15e78f6463dfcfdcf9454adbbad8.jpg\n",
      "2018-12-31 11:22:42,833 - INFO - downloader - image #11\thttp://star.fnnews.com/fnwdpress/wp-content/uploads/2016/09/201609292038285939.jpg\n",
      "2018-12-31 11:22:44,625 - INFO - downloader - image #12\thttp://blogthumb2.naver.net/20150625_157/peahen41_1435167047210Yk2KH_JPEG/KakaoTalk_20150625_022733676.jpg?type=w2\n",
      "2018-12-31 11:22:45,142 - INFO - downloader - image #13\thttp://cdn2.diodeo.com/cdn/news_photo/2017/01/05/2005429-01.jpg\n",
      "2018-12-31 11:22:45,491 - INFO - downloader - image #14\thttp://res.heraldm.com/content/image/2015/01/05/20150105000319_0.jpg\n",
      "2018-12-31 11:22:45,670 - INFO - downloader - image #15\thttps://i.ytimg.com/vi/yuha0Uv6ETU/maxresdefault.jpg\n",
      "2018-12-31 11:22:46,101 - INFO - downloader - image #16\thttp://image.chosun.com/sitedata/image/201707/12/2017071200549_0.jpg\n",
      "2018-12-31 11:22:46,550 - INFO - downloader - image #17\thttp://image.newdaily.co.kr/site/data/img/2015/03/10/2015031000183_0.jpg\n",
      "2018-12-31 11:22:46,749 - INFO - downloader - image #18\thttp://cfile213.uf.daum.net/image/2706A64B57170FAC2AF16B\n",
      "2018-12-31 11:22:47,127 - INFO - downloader - image #19\thttp://www.newsworks.co.kr/news/photo/201807/198757_87462_4549.jpg\n",
      "2018-12-31 11:22:47,302 - INFO - downloader - image #20\thttp://cdnweb01.wikitree.co.kr/webdata/editor/201711/24/img_20171124152857_ea68d08d.jpg\n",
      "2018-12-31 11:22:47,534 - INFO - downloader - image #21\thttp://image.chosun.com/sitedata/image/201503/14/2015031400815_0.jpg\n",
      "2018-12-31 11:22:47,978 - INFO - downloader - image #22\thttp://image.ajunews.com/content/image/2016/02/25/20160225103737410779.jpg\n",
      "2018-12-31 11:22:48,235 - INFO - downloader - image #23\thttp://www.newstown.co.kr/news/photo/201704/281688_161824_4010.jpg\n",
      "2018-12-31 11:22:48,608 - INFO - downloader - image #24\thttp://www.kcnnews.co.kr/news/photo/201807/81118_73838_3124.jpg\n",
      "2018-12-31 11:22:49,109 - INFO - downloader - image #25\thttp://photo.jtbc.joins.com/news/2016/07/04/201607041014283609.jpg\n",
      "2018-12-31 11:22:49,337 - INFO - downloader - image #26\thttp://tenasia.hankyung.com/webwp_kr/wp-content/uploads/2018/01/2018012611175220823-540x421.jpg\n",
      "2018-12-31 11:22:50,562 - INFO - downloader - image #27\thttp://www.beffreport.com/news/photo/201707/33035_16369_4922.jpg\n",
      "2018-12-31 11:22:50,893 - INFO - downloader - image #28\thttps://t1.daumcdn.net/cfile/tistory/265CC54758DEE8A504\n",
      "2018-12-31 11:22:51,098 - INFO - downloader - image #29\thttp://cdnweb01.wikitree.co.kr/webdata/editor/201606/08/img_20160608104806_2ab49935.jpg\n",
      "2018-12-31 11:22:52,520 - INFO - downloader - image #30\thttp://mimgnews2.naver.net/image/014/2017/10/11/0003886716_001_20171011093338563.jpg?type=w540\n",
      "2018-12-31 11:22:52,775 - ERROR - downloader - Response status code 401, file http://simg.donga.com/ugc/MLBPARK/Board/14/76/70/19/1476701963729.jpg\n",
      "2018-12-31 11:22:53,261 - INFO - downloader - image #31\thttp://image.xportsnews.com/contents/images/upload/article/2018/0918/1537225837674636.jpg\n",
      "2018-12-31 11:22:53,889 - INFO - downloader - image #32\thttp://www.breaknews.com/imgdata/breaknews_com/201806/2018062732052915.jpg\n",
      "2018-12-31 11:22:54,101 - INFO - downloader - image #33\thttps://t1.daumcdn.net/cfile/tistory/213DCF435558A8C112\n",
      "2018-12-31 11:22:54,817 - INFO - downloader - image #34\thttp://file3.instiz.net/data/file3/2018/03/01/f/2/2/f2259a9424d8c341457954713d75975f.jpg\n",
      "2018-12-31 11:22:54,995 - INFO - downloader - image #35\thttp://www.mhc.kr/files/attach/images/134/349/734/007/21b2e68d4e853a6ad60ec222de524ae0.JPEG\n",
      "2018-12-31 11:22:56,276 - INFO - downloader - image #36\thttp://mblogthumb2.phinf.naver.net/MjAxODAyMDJfMTM5/MDAxNTE3NTUxNjQxMTEw.FkYVOIP-YGJPTHcflGnYQKsbmdESMtj1pCZ3tA7TzdYg.zH_bRZrlIkhOzBsshX0bbaoGBlzMi3z7IdsnlhtdOw8g.JPEG.woosuop/6.29_C9_%EC%97%94%ED%84%B032115-1-7-%EC%88%98%EC%A0%95.jpg?type=w800\n",
      "2018-12-31 11:22:56,325 - ERROR - downloader - Response status code 401, file http://simg.donga.com/ugc/MLBPARK/Board/14/87/09/67/1487096742591.jpg\n",
      "2018-12-31 11:22:56,804 - INFO - downloader - image #37\thttp://file.mk.co.kr/meet/neds/2018/04/image_readtop_2018_224861_15232356123270000.jpg\n",
      "2018-12-31 11:22:57,101 - INFO - downloader - image #38\thttp://file2.nocutnews.co.kr/newsroom/image/2016/12/01/20161201111318943212.jpg\n",
      "2018-12-31 11:22:57,588 - INFO - downloader - image #39\thttp://pds21.egloos.com/pds/201108/22/62/f0044962_4e52262052fb5.jpg\n",
      "2018-12-31 11:22:57,922 - INFO - downloader - image #40\thttp://www.topstarnews.net/news/photo/201804/393723_39073_1046.jpg\n",
      "2018-12-31 11:22:58,927 - INFO - downloader - image #41\thttp://www.kcnnews.co.kr/news/photo/201807/77673_70576_391.jpg\n",
      "2018-12-31 11:22:59,456 - INFO - downloader - image #42\thttp://spnimage.edaily.co.kr/images/Photo/files/NP/S/2013/11/PS13110500043.jpg\n",
      "2018-12-31 11:23:00,561 - INFO - downloader - image #43\thttp://tenasia.hankyung.com/webwp_kr/wp-content/uploads/2018/04/2018040910292150463-540x808.jpg\n",
      "2018-12-31 11:23:01,277 - INFO - downloader - image #44\thttps://pbs.twimg.com/media/Ck9CnPjUYAE2bpN.jpg\n",
      "2018-12-31 11:23:01,487 - INFO - downloader - image #45\thttp://cdnweb01.wikitree.co.kr/webdata/editor/201606/15/img_20160615101424_aa911e24.jpg\n",
      "2018-12-31 11:23:01,943 - INFO - downloader - image #46\thttp://pds22.egloos.com/pds/201108/22/62/f0044962_4e5226095cc41.jpg\n",
      "2018-12-31 11:23:02,386 - INFO - downloader - image #47\thttp://image.chosun.com/sitedata/image/201806/26/2018062600924_0.jpg\n",
      "2018-12-31 11:23:02,517 - INFO - downloader - image #48\thttp://img.etnews.com/news/article/2015/04/21/article_21070225241305.jpg\n",
      "2018-12-31 11:23:03,007 - ERROR - downloader - Response status code 403, file https://scontent-lax3-1.cdninstagram.com/vp/eb92bfe6ec3eea416be79dd8152f6aff/5C27DB78/t51.2885-15/e35/c257.0.565.565/s480x480/32793634_1341295716014873_4645915030875799552_n.jpg\n",
      "2018-12-31 11:23:03,332 - INFO - downloader - image #49\thttp://www.breaknews.com/imgdata/breaknews_com/201802/2018020634473953.jpg\n",
      "2018-12-31 11:23:03,782 - INFO - downloader - image #50\thttp://talkimg.imbc.com/TVianUpload/tvian/TViews/image/2018/09/17/408aca77-7a8d-43f4-9e87-336caae3528f.jpg\n",
      "2018-12-31 11:23:04,143 - INFO - downloader - image #51\thttps://scontent-lax3-1.cdninstagram.com/vp/ca1514e4e174b431cf2f7fa13214ad20/5C5DE2D2/t51.2885-15/e35/s480x480/31222786_842550135940903_2751161187151380480_n.jpg\n"
     ]
    },
    {
     "name": "stderr",
     "output_type": "stream",
     "text": [
      "2018-12-31 11:23:04,214 - INFO - downloader - image #52\thttps://i.ytimg.com/vi/eXgmxMj1k8E/maxresdefault.jpg\n",
      "2018-12-31 11:23:04,384 - INFO - downloader - image #53\thttp://file2.nocutnews.co.kr/newsroom/image/2018/09/21/20180921134645151387_0_600_400.jpg\n",
      "2018-12-31 11:23:04,897 - INFO - downloader - image #54\thttps://i.pinimg.com/originals/9d/4d/b5/9d4db5e820e08cee58ba3bc023051521.jpg\n",
      "2018-12-31 11:23:05,070 - INFO - downloader - image #55\thttp://img.etnews.com/news/article/2018/11/22/cms_temp_article_22124515209911.jpg\n",
      "2018-12-31 11:23:05,771 - INFO - downloader - image #56\thttp://www.breaknews.com/imgdata/breaknews_com/201810/201810302713287.jpg\n",
      "2018-12-31 11:23:06,307 - INFO - downloader - image #57\thttp://www.thesportstimes.co.kr/news/photo/201708/300626_8182_2144.jpg\n",
      "2018-12-31 11:23:06,839 - INFO - downloader - image #58\thttps://i.pinimg.com/originals/2f/fd/13/2ffd132b7ca7aa6ebc2ec890625bd7f8.jpg\n",
      "2018-12-31 11:23:06,920 - INFO - downloader - image #59\thttps://img-s-msn-com.akamaized.net/tenant/amp/entityid/BBPZWTu.img?h=1080&w=1920&m=6&q=60&o=f&l=f&x=269&y=440\n",
      "2018-12-31 11:23:07,155 - INFO - downloader - image #60\thttp://bntnews.hankyung.com/bntdata/images/photo/201509/24b6fa6c55653366ca33a04ca3fc1904.jpg\n",
      "2018-12-31 11:23:07,535 - INFO - downloader - image #61\thttps://img.insight.co.kr/static/2017/02/13/700/37QIQDH99XJ2I3QZPS40.jpg\n",
      "2018-12-31 11:23:07,770 - INFO - downloader - image #62\thttp://cfile220.uf.daum.net/image/2112F23452C285B90561A6\n",
      "2018-12-31 11:23:07,992 - INFO - downloader - image #63\thttp://www.newstown.co.kr/news/photo/201805/326876_216242_4337.jpg\n",
      "2018-12-31 11:23:08,448 - INFO - downloader - image #64\thttp://www.newsinside.kr/news/photo/201811/512791_363555_562.jpg\n",
      "2018-12-31 11:23:08,565 - INFO - downloader - image #65\thttps://howoo.net/files/attach/images/185/831/005/5c5305c60e372a9cb00a6814181f58c4.jpg\n",
      "2018-12-31 11:23:08,996 - INFO - downloader - image #66\thttps://data.bepick.net/bbs/2018/11/fb4af06d88ba38353e975cccb1cbd8ee_1168550219.jpg\n",
      "2018-12-31 11:23:09,377 - INFO - downloader - image #67\thttp://img.sportsworldi.com/content/image/2018/11/24/20181124616318.jpg\n",
      "2018-12-31 11:23:09,590 - INFO - downloader - image #68\thttp://dimg.donga.com/wps/SPORTS/IMAGE/2016/12/26/82033487.2.jpg\n",
      "2018-12-31 11:23:09,759 - INFO - downloader - image #69\thttp://img.etnews.com/news/article/2018/04/11/cms_temp_article_11181408155904.jpg\n",
      "2018-12-31 11:23:10,060 - INFO - downloader - image #70\thttp://ph.spotvnews.co.kr/news/photo/201804/207008_249038_2107.jpg\n",
      "2018-12-31 11:23:10,840 - INFO - downloader - image #71\thttp://img.etoday.co.kr/pto_db/2018/11/20181124110516_1274420_520_897.jpg\n",
      "2018-12-31 11:23:11,235 - INFO - downloader - image #72\thttp://img.enews24.cjenm.skcdn.com/News/Contents/20180413/92392666.jpg\n",
      "2018-12-31 11:23:13,095 - INFO - downloader - image #73\thttps://www.fmkorea.com/files/attach/new/20181004/3655109/540026096/1303916872/90702fef3bd293f89b9e9b4f386726c8.jpg\n",
      "2018-12-31 11:23:13,536 - INFO - downloader - image #74\thttp://www.breaknews.com/imgdata/breaknews_com/201811/2018112437435252.jpg\n",
      "2018-12-31 11:23:13,857 - INFO - downloader - image #75\thttp://ph.cctoday.co.kr/news/photo/201602/956083_324199_5548.jpg\n",
      "2018-12-31 11:23:15,514 - INFO - downloader - image #76\thttp://menu.mt.co.kr/moneyweek/thumb/2017/07/07/06/2017070710188086927_1.jpg\n",
      "2018-12-31 11:23:16,093 - INFO - downloader - image #77\thttp://image.chosun.com/sitedata/image/201805/15/2018051501631_0.jpg\n",
      "2018-12-31 11:23:16,301 - INFO - downloader - image #78\thttp://www.newstown.co.kr/news/photo/201805/326874_216240_1220.jpg\n",
      "2018-12-31 11:23:16,666 - INFO - downloader - image #79\thttp://www.breaknews.com/imgdata/breaknews_com/201302/2013021500486605.jpg\n",
      "2018-12-31 11:23:17,108 - INFO - downloader - image #80\thttp://img.seoul.co.kr/img/upload/2014/12/21/SSI_20141221152124_V.jpg\n",
      "2018-12-31 11:23:18,280 - INFO - downloader - image #81\thttps://i.pinimg.com/originals/b4/7f/e0/b47fe088327cace107eb17ee27597e17.jpg\n",
      "2018-12-31 11:23:18,304 - INFO - parser - no more page urls for thread parser-001 to parse\n",
      "2018-12-31 11:23:18,305 - INFO - parser - thread parser-001 exit\n",
      "2018-12-31 11:23:18,626 - INFO - downloader - image #82\thttp://cphoto.asiae.co.kr/listimglink/1/2016061514363480652_1.jpg\n",
      "2018-12-31 11:23:19,310 - INFO - downloader - image #83\thttp://www.hrising.com/img/?p=hrising/attach/201804/20180411/AWEwrkwKLFFlMO4wj.jpg\n",
      "2018-12-31 11:23:21,779 - INFO - downloader - image #84\thttps://scontent-frx5-1.cdninstagram.com/vp/498a503470de131d252c8c43d3008d60/5C980E63/t51.2885-15/e35/34053164_207888693155618_3921092110870118400_n.jpg?_nc_ht=scontent-frx5-1.cdninstagram.com&se=7&ig_cache_key=MTc5MDY1Mzg5NDMyNzkzMTQ5Mw%3D%3D.2\n",
      "2018-12-31 11:23:26,783 - INFO - downloader - no more download task for thread downloader-001\n",
      "2018-12-31 11:23:26,785 - INFO - downloader - thread downloader-001 exit\n",
      "2018-12-31 11:23:27,709 - INFO - icrawler.crawler - Crawling task done!\n",
      "2018-12-31 11:23:27,711 - INFO - icrawler.crawler - start crawling...\n",
      "2018-12-31 11:23:27,712 - INFO - icrawler.crawler - starting 1 feeder threads...\n",
      "2018-12-31 11:23:27,713 - INFO - feeder - thread feeder-001 exit\n",
      "2018-12-31 11:23:27,714 - INFO - icrawler.crawler - starting 1 parser threads...\n",
      "2018-12-31 11:23:27,721 - INFO - icrawler.crawler - starting 1 downloader threads...\n",
      "2018-12-31 11:23:28,190 - INFO - parser - parsing result page https://www.bing.com/images/async?q=걸그룹 프로필 사진&first=0\n",
      "2018-12-31 11:23:28,458 - INFO - downloader - image #1\thttp://img.etnews.com/news/article/2016/09/29/article_29192610721343.jpg\n",
      "2018-12-31 11:23:29,590 - INFO - downloader - image #2\thttp://img.tenasia.hankyung.com/webwp_kr/wp-content/uploads/2018/01/2018012611175220823-540x421.jpg\n",
      "2018-12-31 11:23:29,650 - INFO - downloader - image #3\thttps://i.pinimg.com/originals/13/b5/0f/13b50fe50afbf8f1ea0d88ed7d5fba82.jpg\n",
      "2018-12-31 11:23:32,181 - INFO - downloader - image #4\thttp://blogfiles.naver.net/20150710_230/jejuwg_1436538604003SkL6p_JPEG/%BF%AC%BF%B9%C0%CE_%C7%C1%B7%CE%C7%CA%BB%E7%C1%F8_%B0%C9%B1%D7%B7%EC_%BA%ED%B7%B9%C0%CC%B5%F0_%C3%D4%BF%B5Tom-5605-1_copy.jpg\n",
      "2018-12-31 11:23:32,875 - INFO - downloader - image #5\thttp://thestar.chosun.com/site/data/img_dir/2011/11/22/2011112201743_0.jpg\n",
      "2018-12-31 11:23:33,426 - INFO - downloader - image #6\thttp://image.fmkorea.com/files/attach/new/20160710/3655109/6106974/409987627/26f9e7e3b4e222d004aa5334884c4944.jpg\n",
      "2018-12-31 11:23:34,165 - ERROR - downloader - Response status code 404, file http://postfiles14.naver.net/20160322_29/sklove2378_1458611932809goS1p_JPEG/0%BD%BA%C0%A7%C4%A1ppt%BB%E7%C1%F8%B4%D9%BF%EE_160322_02_%281%29.jpg\n",
      "2018-12-31 11:23:36,507 - INFO - downloader - image #7\thttp://blogfiles.naver.net/20150710_81/jejuwg_14365386554649CXCY_JPEG/%BF%AC%BF%B9%C0%CE_%C7%C1%B7%CE%C7%CA%BB%E7%C1%F8_%B0%C9%B1%D7%B7%EC_%BA%ED%B7%B9%C0%CC%B5%F0_%C3%D4%BF%B5Tom-6011-1_copy.jpg\n",
      "2018-12-31 11:23:36,762 - INFO - downloader - image #8\thttp://img.theqoo.net/img/jXpyZ.jpg\n",
      "2018-12-31 11:23:37,176 - INFO - downloader - image #9\thttps://www.nemopan.com/files/attach/images/6294/114/166/010/295609a9124443c37b55f56e2002ad36.jpg\n",
      "2018-12-31 11:23:38,040 - INFO - downloader - image #10\thttps://s-media-cache-ak0.pinimg.com/600x315/9d/4d/b5/9d4db5e820e08cee58ba3bc023051521.jpg\n",
      "2018-12-31 11:23:38,381 - INFO - downloader - image #11\thttp://i2.media.daumcdn.net/photo-media/201302/14/segye/20130214095611220.jpg\n",
      "2018-12-31 11:23:38,602 - INFO - downloader - image #12\thttp://cdnweb01.wikitree.co.kr/webdata/editor/201608/06/img_20160806174351_afc7657b.jpg\n",
      "2018-12-31 11:23:38,787 - INFO - downloader - image #13\thttp://78.media.tumblr.com/f58823c6a2e12998c2559c7cf413071d/tumblr_oh05bicbjP1uotx9no1_1280.jpg\n",
      "2018-12-31 11:23:41,066 - INFO - downloader - image #14\thttp://blogfiles.naver.net/20150710_76/jejuwg_1436538625298lkYH2_JPEG/%BF%AC%BF%B9%C0%CE_%C7%C1%B7%CE%C7%CA%BB%E7%C1%F8_%B0%C9%B1%D7%B7%EC_%BA%ED%B7%B9%C0%CC%B5%F0_%C3%D4%BF%B5IMG_5956_2.jpg\n",
      "2018-12-31 11:23:41,380 - INFO - parser - parsing result page https://www.bing.com/images/async?q=걸그룹 프로필 사진&first=20\n",
      "2018-12-31 11:23:41,549 - INFO - downloader - image #15\thttp://www.newstown.co.kr/news/photo/201711/306840_193187_415.jpg\n",
      "2018-12-31 11:23:42,061 - INFO - downloader - image #16\thttp://image.chosun.com/sitedata/image/201610/31/2016103101169_1.jpg\n"
     ]
    },
    {
     "name": "stderr",
     "output_type": "stream",
     "text": [
      "2018-12-31 11:23:42,351 - INFO - downloader - image #17\thttp://www.newstown.co.kr/news/photo/201711/306851_193212_015.jpg\n",
      "2018-12-31 11:23:45,148 - INFO - downloader - image #18\thttp://blogfiles.naver.net/20150710_195/jejuwg_1436538534355wOO8o_JPEG/%BF%AC%BF%B9%C0%CE_%C7%C1%B7%CE%C7%CA%BB%E7%C1%F8_%B0%C9%B1%D7%B7%EC_%BA%ED%B7%B9%C0%CC%B5%F0_%C3%D4%BF%B5Tom-5406-1_copy.jpg\n",
      "2018-12-31 11:23:45,493 - INFO - downloader - image #19\thttp://dimg.donga.com/wps/DKBNEWS/IMAGE/2018/11/01/92683462.1.jpg\n",
      "2018-12-31 11:23:45,524 - INFO - downloader - image #20\thttps://i.pinimg.com/originals/2f/fd/13/2ffd132b7ca7aa6ebc2ec890625bd7f8.jpg\n",
      "2018-12-31 11:23:45,982 - INFO - downloader - image #21\thttps://pbs.twimg.com/media/C-ENE41UAAEsQqf.jpg\n",
      "2018-12-31 11:23:46,289 - INFO - parser - parsing result page https://www.bing.com/images/async?q=걸그룹 프로필 사진&first=40\n",
      "2018-12-31 11:23:48,392 - INFO - downloader - image #22\thttp://blogfiles.naver.net/20150710_129/jejuwg_1436538640931Xtalq_JPEG/%BF%AC%BF%B9%C0%CE_%C7%C1%B7%CE%C7%CA%BB%E7%C1%F8_%B0%C9%B1%D7%B7%EC_%BA%ED%B7%B9%C0%CC%B5%F0_%C3%D4%BF%B5Tom-6068-1_copy.jpg\n",
      "2018-12-31 11:23:50,496 - INFO - downloader - image #23\thttp://blogfiles.naver.net/20150710_245/jejuwg_1436538567385THSPj_JPEG/%BF%AC%BF%B9%C0%CE_%C7%C1%B7%CE%C7%CA%BB%E7%C1%F8_%B0%C9%B1%D7%B7%EC_%BA%ED%B7%B9%C0%CC%B5%F0_%C3%D4%BF%B5Tom-5443-1_copy.jpg\n",
      "2018-12-31 11:23:50,762 - INFO - downloader - image #24\thttp://talkimg.imbc.com/TVianUpload/TVian/TViews/image/2018/09/17/adv8s8lgitr5636727974081317521.jpg\n",
      "2018-12-31 11:23:51,298 - INFO - downloader - image #25\thttps://pbs.twimg.com/media/C8Xy15EUwAAGN1m.jpg\n",
      "2018-12-31 11:23:51,448 - INFO - downloader - image #26\thttp://tenasia.hankyung.com/webwp_kr/wp-content/uploads/2018/04/2018040910292150463-540x808.jpg\n",
      "2018-12-31 11:23:51,960 - INFO - downloader - image #27\thttp://img.mimint.co.kr/tv/bbs/2013/2/15/WZ318I8W2Z3JM10TYTKS.jpg\n",
      "2018-12-31 11:23:53,531 - INFO - downloader - image #28\thttps://i.pinimg.com/736x/b4/7f/e0/b47fe088327cace107eb17ee27597e17.jpg\n",
      "2018-12-31 11:23:53,783 - INFO - downloader - image #29\thttp://tenasia.hankyung.com/webwp_kr/wp-content/uploads/2018/09/2018092108065414091-540x360.jpg\n",
      "2018-12-31 11:23:54,340 - INFO - downloader - image #30\thttp://sccdn.chosun.com/news/html/2018/05/15/2018051601001377300104821.jpg\n",
      "2018-12-31 11:23:54,620 - INFO - parser - parsing result page https://www.bing.com/images/async?q=걸그룹 프로필 사진&first=60\n",
      "2018-12-31 11:23:55,316 - INFO - downloader - image #31\thttps://image.fmkorea.com/files/attach/new/20171109/3655109/1161611/831173097/85e5cccb310a8842386e6a266db80830.jpg\n",
      "2018-12-31 11:23:55,772 - INFO - downloader - image #32\thttp://image.xportsnews.com/contents/images/upload/article/2018/0918/1537225837674636.jpg\n",
      "2018-12-31 11:23:55,949 - INFO - downloader - image #33\thttp://www.newstown.co.kr/news/photo/201701/274980_153919_3925.jpg\n",
      "2018-12-31 11:23:56,106 - ERROR - downloader - Response status code 404, file http://file.flash24.dreamx.com/g4/data/mw.cheditor/1506/M6wSGM6s.jpg\n",
      "2018-12-31 11:23:56,670 - INFO - downloader - image #34\thttps://pbs.twimg.com/media/C9XUxukVoAACOC1.jpg\n",
      "2018-12-31 11:23:56,949 - INFO - downloader - image #35\thttp://cphoto.asiae.co.kr/listimglink/6/2016061514363480652_1.jpg\n",
      "2018-12-31 11:23:57,393 - INFO - downloader - image #36\thttp://www.city.kr/files/attach/images/238/354/528/009/a1e5c1b1d001da21e1418abd22447b8a.jpg\n",
      "2018-12-31 11:23:57,416 - INFO - downloader - image #37\thttps://pbs.twimg.com/media/C-ENE4zUQAAg8NU.jpg\n",
      "2018-12-31 11:23:57,730 - INFO - downloader - image #38\thttp://cdnweb01.wikitree.co.kr/webdata/editor/201606/01/img_20160601111957_c5b46796.jpg\n",
      "2018-12-31 11:23:57,782 - ERROR - downloader - Response status code 404, file http://file.flash24.dreamx.com/g4/data/mw.cheditor/1506/SxPQdSHJO8.jpg\n",
      "2018-12-31 11:23:58,198 - INFO - downloader - image #39\thttps://www.nemopan.com/files/attach/images/6294/783/180/010/793d007be6672444a891f0015f82a7fe.jpg\n",
      "2018-12-31 11:23:58,684 - INFO - downloader - image #40\thttp://thumb.mtstarnews.com/06/2018/09/2018092008175864958_1.jpg\n",
      "2018-12-31 11:23:58,984 - INFO - parser - parsing result page https://www.bing.com/images/async?q=걸그룹 프로필 사진&first=80\n",
      "2018-12-31 11:23:59,512 - INFO - downloader - image #41\thttp://www.ilyoseoul.co.kr/news/photo/201301/77172_34182_158.jpg\n",
      "2018-12-31 11:24:00,124 - INFO - downloader - image #42\thttps://image.fmkorea.com/files/attach/new/20171124/3655109/1681646/846260401/38db15e78f6463dfcfdcf9454adbbad8.jpg\n",
      "2018-12-31 11:24:00,183 - INFO - downloader - image #43\thttps://howoo.net/files/attach/images/185/831/005/5c5305c60e372a9cb00a6814181f58c4.jpg\n",
      "2018-12-31 11:24:00,646 - INFO - downloader - image #44\thttp://www.breaknews.com/imgdata/breaknews_com/201811/2018112610552330.jpg\n",
      "2018-12-31 11:24:02,896 - INFO - downloader - image #45\thttp://image.fmkorea.com/files/attach/new/20171124/3655109/1681646/846257090/3b7002721453521946db66ad011258fa.jpg\n",
      "2018-12-31 11:24:03,459 - INFO - downloader - image #46\thttp://image.sportsseoul.com/2017/02/02/news/20170202155445_cats.jpg\n",
      "2018-12-31 11:24:03,517 - INFO - downloader - image #47\thttps://howoo.net/./files/attach/images/185/831/005/4c3d277f425c84f5d10c344b3e664cff.jpg\n",
      "2018-12-31 11:24:04,005 - INFO - downloader - image #48\thttp://spnimage.edaily.co.kr/images/photo/files/NP/S/2015/01/PS15010500111.jpg\n",
      "2018-12-31 11:24:04,273 - INFO - downloader - image #49\thttp://www.newstown.co.kr/news/photo/201708/296600_180219_555.jpg\n",
      "2018-12-31 11:24:04,596 - INFO - downloader - image #50\thttp://www.breaknews.com/imgdata/breaknews_com/201811/2018112320423540.jpg\n",
      "2018-12-31 11:24:04,756 - INFO - downloader - image #51\thttp://www.newstown.co.kr/news/photo/201708/296600_180215_37.jpg\n",
      "2018-12-31 11:24:05,793 - INFO - downloader - image #52\thttps://image.fmkorea.com/files/attach/new/20170720/3655109/49198313/717217005/eb0b0672da89d8a41758dfee99d8ecb3.jpg\n",
      "2018-12-31 11:24:06,754 - INFO - downloader - image #53\thttp://image.fmkorea.com/files/attach/new/20180319/3655109/479621048/985465806/b0285ed094e0c9bed810c92edda259ad.jpg\n",
      "2018-12-31 11:24:07,010 - INFO - downloader - image #54\thttp://www.newstown.co.kr/news/photo/201704/281688_161824_4010.jpg\n",
      "2018-12-31 11:24:07,386 - INFO - downloader - image #55\thttp://pds.joins.com/news/component/htmlphoto_mmdata/201801/04/ed475a66-ade9-4398-8a29-bb1039b6660e.jpg\n",
      "2018-12-31 11:24:07,644 - INFO - downloader - image #56\thttp://www.breaknews.com/imgdata/breaknews_com/201804/2018041328006039.jpg\n",
      "2018-12-31 11:24:07,863 - INFO - downloader - image #57\thttp://img.tenasia.hankyung.com/webwp_kr/wp-content/uploads/2017/05/2017050413474734355.jpg\n",
      "2018-12-31 11:24:08,767 - INFO - parser - no more page urls for thread parser-001 to parse\n",
      "2018-12-31 11:24:08,768 - INFO - parser - thread parser-001 exit\n",
      "2018-12-31 11:24:12,865 - INFO - downloader - no more download task for thread downloader-001\n",
      "2018-12-31 11:24:12,866 - INFO - downloader - thread downloader-001 exit\n",
      "2018-12-31 11:24:13,860 - INFO - icrawler.crawler - Crawling task done!\n"
     ]
    }
   ],
   "source": [
    "google_crawler = GoogleImageCrawler(storage={'root_dir': dirpath + '/raw'})\n",
    "google_crawler.crawl(keyword='걸그룹 프로필 사진', max_num=100, min_size=(300,300), file_idx_offset='auto')\n",
    "bing_crawler = BingImageCrawler(storage={'root_dir': dirpath + '/raw'})\n",
    "bing_crawler.crawl(keyword='걸그룹 프로필 사진', max_num=100, min_size=(300,300), file_idx_offset='auto')"
   ]
  },
  {
   "cell_type": "code",
   "execution_count": 56,
   "metadata": {},
   "outputs": [
    {
     "name": "stderr",
     "output_type": "stream",
     "text": [
      "2018-12-31 11:34:34,988 - INFO - icrawler.crawler - start crawling...\n",
      "2018-12-31 11:34:34,989 - INFO - icrawler.crawler - starting 1 feeder threads...\n",
      "2018-12-31 11:34:34,990 - INFO - feeder - thread feeder-001 exit\n",
      "2018-12-31 11:34:34,990 - INFO - icrawler.crawler - starting 1 parser threads...\n",
      "2018-12-31 11:34:34,992 - INFO - icrawler.crawler - starting 1 downloader threads...\n",
      "2018-12-31 11:34:35,756 - INFO - parser - parsing result page http://image.baidu.com/search/acjson?tn=resultjson_com&ipn=rj&word=韩流 女 写真&pn=0&rn=30\n",
      "2018-12-31 11:34:36,247 - INFO - downloader - image #1\thttp://www.sinaimg.cn/dy/slidenews/4_img/2013_13/704_922809_809079.jpg\n",
      "2018-12-31 11:34:36,490 - INFO - downloader - image #2\thttp://www.sinaimg.cn/dy/slidenews/4_img/2013_13/704_922808_437972.jpg\n",
      "2018-12-31 11:34:38,876 - INFO - downloader - image #3\thttp://photocdn.sohu.com/20080505/Img256664628.jpg\n",
      "2018-12-31 11:34:39,874 - INFO - downloader - image #4\thttp://ww1.sinaimg.cn/large/68359e7cjw1eompamrdaqj20k50pxgp3.jpg\n",
      "2018-12-31 11:34:40,116 - INFO - downloader - image #5\thttp://n.sinaimg.cn/ent/4_img/upload/5dfbde5e/572/w540h832/20181217/B_un-hqhtqsp2360234.jpg\n",
      "2018-12-31 11:34:40,794 - INFO - downloader - image #6\thttp://news.cri.cn/mmsource/images/2008/05/19/ei080517021.jpg\n",
      "2018-12-31 11:34:41,963 - INFO - downloader - image #7\thttp://www.sinaimg.cn/dy/slidenews/4_img/2013_37/704_1095150_781635.jpg\n",
      "2018-12-31 11:34:42,312 - INFO - downloader - image #8\thttp://www.sinaimg.cn/dy/slidenews/4_img/2012_07/703_573086_100591.jpg\n",
      "2018-12-31 11:34:42,913 - INFO - downloader - image #9\thttp://www.sinaimg.cn/dy/slidenews/4_img/2011_30/703_392889_153934.jpg\n",
      "2018-12-31 11:35:09,526 - INFO - parser - parsing result page http://image.baidu.com/search/acjson?tn=resultjson_com&ipn=rj&word=韩流 女 写真&pn=30&rn=30\n",
      "2018-12-31 11:35:23,885 - ERROR - downloader - Exception caught when downloading file http://photo.l99.com/bigger/03/1395377024930_rth2u9.jpg, error: HTTPSConnectionPool(host='oi5mmhyk8.qnssl.com', port=443): Max retries exceeded with url: /03/1395377024930_rth2u9.jpg!bigger (Caused by ConnectTimeoutError(<urllib3.connection.VerifiedHTTPSConnection object at 0x10ff5e6a0>, 'Connection to oi5mmhyk8.qnssl.com timed out. (connect timeout=5)')), remaining retry times: 2\n",
      "2018-12-31 11:35:25,061 - INFO - downloader - image #10\thttp://photo.l99.com/bigger/03/1395377024930_rth2u9.jpg\n",
      "2018-12-31 11:35:25,703 - INFO - downloader - image #11\thttp://img002.hc360.cn/y5/M02/E6/4B/wKhQUVXU6L2ET2lmAAAAACB6IxU373.jpg\n",
      "2018-12-31 11:35:26,279 - INFO - downloader - image #12\thttp://gb.cri.cn/mmsource/images/2008/05/19/ei080517015.jpg\n",
      "2018-12-31 11:35:27,329 - INFO - downloader - image #13\thttp://www.sinaimg.cn/dy/slidenews/4_img/2011_15/703_306992_858589.jpg\n",
      "2018-12-31 11:35:28,950 - INFO - downloader - image #14\thttp://s13.sinaimg.cn/bmiddle/4c4f110dxac4204b0847c&690\n",
      "2018-12-31 11:35:29,177 - INFO - downloader - image #15\thttp://www.sinaimg.cn/dy/slidenews/4_img/2012_13/703_609753_446607.jpg\n",
      "2018-12-31 11:35:30,004 - INFO - downloader - image #16\thttp://dingyue.nosdn.127.net/ksxUgIW7lzp=jLRABrDUOaJTAX1r1l0ZlosauEYbj8OXm1542492286037.jpeg\n",
      "2018-12-31 11:35:30,381 - INFO - downloader - image #17\thttp://ww1.sinaimg.cn/large/005YnPdNjw1eqwsa7bmqij30c30bk3za.jpg\n",
      "2018-12-31 11:35:32,484 - INFO - downloader - image #18\thttp://img2.mtime.com/mg/2008/23/c10748b1-4ffc-4355-a312-6339da3b158b.jpg\n",
      "2018-12-31 11:35:34,842 - INFO - downloader - image #19\thttp://image.meifajie.com/attachments/image/2016-06/20160620110645_44074.jpg\n",
      "2018-12-31 11:35:35,075 - INFO - downloader - image #20\thttp://gb.cri.cn/mmsource/images/2008/05/22/ei080522037.jpg\n",
      "2018-12-31 11:35:35,815 - INFO - downloader - image #21\thttp://00imgmini.eastday.com/mobile/20181129/20181129195205_fa31597b7554010799e72c8e6b68a66e_2.jpeg\n",
      "2018-12-31 11:35:41,328 - ERROR - downloader - Exception caught when downloading file http://imga.deyi.com/forum/201403/21/175136nmgx2obh9txtcdcn.jpg, error: HTTPConnectionPool(host='imga.deyi.com', port=80): Read timed out. (read timeout=5), remaining retry times: 2\n",
      "2018-12-31 11:35:43,296 - INFO - downloader - image #22\thttp://imga.deyi.com/forum/201403/21/175136nmgx2obh9txtcdcn.jpg\n",
      "2018-12-31 11:35:44,273 - INFO - downloader - image #23\thttp://www.sinaimg.cn/dy/slidenews/4_img/2010_34/703_145918_560050.jpg\n",
      "2018-12-31 11:35:45,082 - INFO - downloader - image #24\thttp://www.sinaimg.cn/dy/slidenews/4_img/2013_30/704_1036464_445389.jpg\n",
      "2018-12-31 11:35:45,375 - INFO - parser - parsing result page http://image.baidu.com/search/acjson?tn=resultjson_com&ipn=rj&word=韩流 女 写真&pn=60&rn=30\n",
      "2018-12-31 11:35:45,608 - INFO - downloader - image #25\thttp://ww1.sinaimg.cn/large/bd8a913agw1f1bxkqgt85j20v51n814g.jpg\n",
      "2018-12-31 11:36:26,293 - ERROR - downloader - Exception caught when downloading file http://img4q.duitang.com/uploads/item/201504/04/20150404H1855_KnRLz.thumb.700_0.jpeg, error: HTTPConnectionPool(host='img4q.duitang.com', port=80): Max retries exceeded with url: /uploads/item/201504/04/20150404H1855_KnRLz.thumb.700_0.jpeg (Caused by ConnectTimeoutError(<urllib3.connection.HTTPConnection object at 0x10ff4f8d0>, 'Connection to img4q.duitang.com timed out. (connect timeout=5)')), remaining retry times: 2\n",
      "2018-12-31 11:36:43,922 - INFO - parser - parsing result page http://image.baidu.com/search/acjson?tn=resultjson_com&ipn=rj&word=韩流 女 写真&pn=90&rn=30\n",
      "2018-12-31 11:37:06,320 - ERROR - downloader - Exception caught when downloading file http://img4q.duitang.com/uploads/item/201504/04/20150404H1855_KnRLz.thumb.700_0.jpeg, error: HTTPConnectionPool(host='img4q.duitang.com', port=80): Max retries exceeded with url: /uploads/item/201504/04/20150404H1855_KnRLz.thumb.700_0.jpeg (Caused by ConnectTimeoutError(<urllib3.connection.HTTPConnection object at 0x10ff4e5c0>, 'Connection to img4q.duitang.com timed out. (connect timeout=5)')), remaining retry times: 1\n",
      "2018-12-31 11:37:46,040 - INFO - parser - no more page urls for thread parser-001 to parse\n",
      "2018-12-31 11:37:46,042 - INFO - parser - thread parser-001 exit\n",
      "2018-12-31 11:37:46,671 - ERROR - downloader - Exception caught when downloading file http://img4q.duitang.com/uploads/item/201504/04/20150404H1855_KnRLz.thumb.700_0.jpeg, error: HTTPConnectionPool(host='img4q.duitang.com', port=80): Max retries exceeded with url: /uploads/item/201504/04/20150404H1855_KnRLz.thumb.700_0.jpeg (Caused by ConnectTimeoutError(<urllib3.connection.HTTPConnection object at 0x10ff69630>, 'Connection to img4q.duitang.com timed out. (connect timeout=5)')), remaining retry times: 0\n",
      "2018-12-31 11:37:47,070 - INFO - downloader - image #26\thttp://img10.360buyimg.com/imgzone/jfs/t1972/243/1751903433/238231/2a5df330/566e54d9Nf504c7d6.jpg\n",
      "2018-12-31 11:37:56,892 - ERROR - downloader - Exception caught when downloading file http://img.mingxing.com/upload/picture/2014/02/1OFc0KJ.png, error: HTTPConnectionPool(host='img.mingxing.com', port=80): Read timed out., remaining retry times: 2\n",
      "2018-12-31 11:38:08,586 - ERROR - downloader - Exception caught when downloading file http://img.mingxing.com/upload/picture/2014/02/1OFc0KJ.png, error: HTTPConnectionPool(host='img.mingxing.com', port=80): Read timed out., remaining retry times: 1\n",
      "2018-12-31 11:38:29,480 - ERROR - downloader - Exception caught when downloading file http://img.mingxing.com/upload/picture/2014/02/1OFc0KJ.png, error: HTTPConnectionPool(host='img.mingxing.com', port=80): Read timed out., remaining retry times: 0\n",
      "2018-12-31 11:38:29,922 - INFO - downloader - image #27\thttp://img10.360buyimg.com/imgzone/jfs/t1960/351/2895241946/260797/c1d250d1/571f31f4Nde22c023.jpg\n",
      "2018-12-31 11:38:31,330 - INFO - downloader - image #28\thttp://media.zenfs.com/ko_KR/News/starnn/20121018174041_507fc0898c80a_1.jpg\n",
      "2018-12-31 11:38:32,123 - INFO - downloader - image #29\thttp://m1.sinaimg.cn/maxwidth.640/m1.sinaimg.cn/20ce67dd62b3f5c7b722f05efc4ac7ab_500_750.jpg\n",
      "2018-12-31 11:38:37,126 - INFO - downloader - no more download task for thread downloader-001\n",
      "2018-12-31 11:38:37,127 - INFO - downloader - thread downloader-001 exit\n",
      "2018-12-31 11:38:37,408 - INFO - icrawler.crawler - Crawling task done!\n"
     ]
    }
   ],
   "source": [
    "baidu_crawler = BaiduImageCrawler(storage={'root_dir': dirpath + '/raw'})\n",
    "baidu_crawler.crawl(keyword='韩流 女 写真', max_num=100, min_size=(300,300), file_idx_offset='auto')"
   ]
  },
  {
   "cell_type": "code",
   "execution_count": 3,
   "metadata": {},
   "outputs": [
    {
     "data": {
      "text/plain": [
       "'2.7.12 |Anaconda 4.1.1 (x86_64)| (default, Jul  2 2016, 17:43:17) \\n[GCC 4.2.1 (Based on Apple Inc. build 5658) (LLVM build 2336.11.00)]'"
      ]
     },
     "execution_count": 3,
     "metadata": {},
     "output_type": "execute_result"
    }
   ],
   "source": [
    "sys.version"
   ]
  },
  {
   "cell_type": "code",
   "execution_count": null,
   "metadata": {
    "collapsed": true
   },
   "outputs": [],
   "source": [
    "#  cd PreProcessing\n",
    "#  python3 align_faces.py -r ../raw -d ../processed\n",
    "# see # https://github.com/YBIGTA/facebigta/tree/master/PreProcessing"
   ]
  }
 ],
 "metadata": {
  "anaconda-cloud": {},
  "kernelspec": {
   "display_name": "Python 3",
   "language": "python",
   "name": "python3"
  },
  "language_info": {
   "codemirror_mode": {
    "name": "ipython",
    "version": 3
   },
   "file_extension": ".py",
   "mimetype": "text/x-python",
   "name": "python",
   "nbconvert_exporter": "python",
   "pygments_lexer": "ipython3",
   "version": "3.7.1"
  }
 },
 "nbformat": 4,
 "nbformat_minor": 1
}
