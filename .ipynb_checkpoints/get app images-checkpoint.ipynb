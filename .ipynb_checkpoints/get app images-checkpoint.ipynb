{
 "cells": [
  {
   "cell_type": "code",
   "execution_count": 19,
   "metadata": {},
   "outputs": [],
   "source": [
    "import json,os\n",
    "import csv\n",
    "import io\n",
    "import pandas as pd\n",
    "import urllib\n",
    "import urllib.request\n"
   ]
  },
  {
   "cell_type": "code",
   "execution_count": 26,
   "metadata": {},
   "outputs": [],
   "source": [
    "game_list = []\n",
    "with open('/Users/jerrychi/Downloads/sensor_strategy.csv','r',encoding='UTF-16') as f:\n",
    "    appinfo = csv.reader(f,delimiter='\\t')\n",
    "    firstrow = appinfo.__next__()\n",
    "    app_id_index = firstrow.index('App ID')\n",
    "    app_name_index = firstrow.index('App name')\n",
    "    for row in appinfo:\n",
    "        game_list.append([row[app_id_index],row[app_name_index]])\n",
    "        \n",
    "\n",
    "    \n",
    "\n",
    "    "
   ]
  },
  {
   "cell_type": "code",
   "execution_count": 28,
   "metadata": {},
   "outputs": [
    {
     "data": {
      "text/plain": [
       "3770"
      ]
     },
     "execution_count": 28,
     "metadata": {},
     "output_type": "execute_result"
    }
   ],
   "source": [
    "len(game_list)"
   ]
  },
  {
   "cell_type": "code",
   "execution_count": 34,
   "metadata": {},
   "outputs": [],
   "source": [
    "for item in game_list[:100]:\n",
    "    id = item[0]\n",
    "    name = item[1].replace(' ','_')\n",
    "    url = 'http://itunes.apple.com/lookup?id='+id\n",
    "    response = urllib.request.urlopen(url)\n",
    "    picurl = json.loads(response.read())['results'][0]['artworkUrl100']\n",
    "    urllib.request.urlretrieve(picurl,'/Users/jerrychi/Downloads/dlpix/' + name + '.' + picurl.split('/')[-1].split('.')[-1])\n"
   ]
  },
  {
   "cell_type": "code",
   "execution_count": 35,
   "metadata": {},
   "outputs": [],
   "source": [
    "import play_scraper\n",
    "import re"
   ]
  },
  {
   "cell_type": "code",
   "execution_count": null,
   "metadata": {},
   "outputs": [],
   "source": []
  },
  {
   "cell_type": "code",
   "execution_count": null,
   "metadata": {},
   "outputs": [],
   "source": [
    "game_categories = [x for x in play_scraper.categories().keys() if 'GAME' in x]"
   ]
  },
  {
   "cell_type": "code",
   "execution_count": 34,
   "metadata": {},
   "outputs": [],
   "source": [
    "scraped = []\n",
    "for category in game_categories:\n",
    "    scraped += play_scraper.collection(collection='TRENDING',category=category,\n",
    "        results=120)"
   ]
  },
  {
   "cell_type": "code",
   "execution_count": 37,
   "metadata": {},
   "outputs": [],
   "source": [
    "def get_unique_list(data):\n",
    "    uni_data=[]\n",
    "    for dat in data:\n",
    "        if dat not in uni_data:\n",
    "            uni_data.append(dat)\n",
    "    return uni_data"
   ]
  },
  {
   "cell_type": "code",
   "execution_count": null,
   "metadata": {},
   "outputs": [],
   "source": [
    "for app in get_unique_list(scraped):\n",
    "    title = ''.join(re.findall(r'[a-zA-Z]',app['title']))\n",
    "    urllib.request.urlretrieve(app['icon'],'/Users/jerry.chi/Downloads/dlpix/' + title + '.png')"
   ]
  },
  {
   "cell_type": "code",
   "execution_count": 16,
   "metadata": {},
   "outputs": [],
   "source": []
  },
  {
   "cell_type": "code",
   "execution_count": 31,
   "metadata": {},
   "outputs": [
    {
     "data": {
      "text/plain": [
       "['GAME_ACTION',\n",
       " 'GAME_ADVENTURE',\n",
       " 'GAME_ARCADE',\n",
       " 'GAME_BOARD',\n",
       " 'GAME_CARD',\n",
       " 'GAME_CASINO',\n",
       " 'GAME_CASUAL',\n",
       " 'GAME_EDUCATIONAL',\n",
       " 'GAME_MUSIC',\n",
       " 'GAME_PUZZLE',\n",
       " 'GAME_RACING',\n",
       " 'GAME_ROLE_PLAYING',\n",
       " 'GAME_SIMULATION',\n",
       " 'GAME_SPORTS',\n",
       " 'GAME_STRATEGY',\n",
       " 'GAME_TRIVIA',\n",
       " 'GAME_WORD',\n",
       " 'FAMILY_BRAINGAMES']"
      ]
     },
     "execution_count": 31,
     "metadata": {},
     "output_type": "execute_result"
    }
   ],
   "source": [
    "game_categories"
   ]
  },
  {
   "cell_type": "code",
   "execution_count": 11,
   "metadata": {},
   "outputs": [
    {
     "ename": "AttributeError",
     "evalue": "module 'play_scraper' has no attribute 'collections'",
     "output_type": "error",
     "traceback": [
      "\u001b[0;31m---------------------------------------------------------------------------\u001b[0m",
      "\u001b[0;31mAttributeError\u001b[0m                            Traceback (most recent call last)",
      "\u001b[0;32m<ipython-input-11-253d489aef44>\u001b[0m in \u001b[0;36m<module>\u001b[0;34m()\u001b[0m\n\u001b[0;32m----> 1\u001b[0;31m \u001b[0mplay_scraper\u001b[0m\u001b[0;34m.\u001b[0m\u001b[0mcollections\u001b[0m\u001b[0;34m(\u001b[0m\u001b[0;34m)\u001b[0m\u001b[0;34m\u001b[0m\u001b[0m\n\u001b[0m",
      "\u001b[0;31mAttributeError\u001b[0m: module 'play_scraper' has no attribute 'collections'"
     ]
    }
   ],
   "source": [
    "play_scraper.categories()"
   ]
  },
  {
   "cell_type": "code",
   "execution_count": null,
   "metadata": {},
   "outputs": [],
   "source": []
  }
 ],
 "metadata": {
  "kernelspec": {
   "display_name": "Python 3",
   "language": "python",
   "name": "python3"
  },
  "language_info": {
   "codemirror_mode": {
    "name": "ipython",
    "version": 3
   },
   "file_extension": ".py",
   "mimetype": "text/x-python",
   "name": "python",
   "nbconvert_exporter": "python",
   "pygments_lexer": "ipython3",
   "version": "3.6.5"
  }
 },
 "nbformat": 4,
 "nbformat_minor": 2
}
