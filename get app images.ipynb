{
 "cells": [
  {
   "cell_type": "code",
   "execution_count": 31,
   "metadata": {},
   "outputs": [],
   "source": [
    "import json,os\n",
    "import csv\n",
    "import io\n",
    "import pandas as pd\n",
    "import urllib\n",
    "import urllib.request\n"
   ]
  },
  {
   "cell_type": "code",
   "execution_count": 26,
   "metadata": {},
   "outputs": [],
   "source": [
    "game_list = []\n",
    "with open('/Users/jerrychi/Downloads/sensor_strategy.csv','r',encoding='UTF-16') as f:\n",
    "    appinfo = csv.reader(f,delimiter='\\t')\n",
    "    firstrow = appinfo.__next__()\n",
    "    app_id_index = firstrow.index('App ID')\n",
    "    app_name_index = firstrow.index('App name')\n",
    "    for row in appinfo:\n",
    "        game_list.append([row[app_id_index],row[app_name_index]])\n",
    "        \n",
    "\n",
    "    \n",
    "\n",
    "    "
   ]
  },
  {
   "cell_type": "code",
   "execution_count": 28,
   "metadata": {},
   "outputs": [
    {
     "data": {
      "text/plain": [
       "3770"
      ]
     },
     "execution_count": 28,
     "metadata": {},
     "output_type": "execute_result"
    }
   ],
   "source": [
    "len(game_list)"
   ]
  },
  {
   "cell_type": "code",
   "execution_count": 34,
   "metadata": {},
   "outputs": [],
   "source": [
    "for item in game_list[:100]:\n",
    "    id = item[0]\n",
    "    name = item[1].replace(' ','_')\n",
    "    url = 'http://itunes.apple.com/lookup?id='+id\n",
    "    response = urllib.request.urlopen(url)\n",
    "    picurl = json.loads(response.read())['results'][0]['artworkUrl100']\n",
    "    urllib.request.urlretrieve(picurl,'/Users/jerrychi/Downloads/dlpix/' + name + '.' + picurl.split('/')[-1].split('.')[-1])\n"
   ]
  },
  {
   "cell_type": "code",
   "execution_count": null,
   "metadata": {
    "collapsed": true
   },
   "outputs": [],
   "source": []
  }
 ],
 "metadata": {
  "kernelspec": {
   "display_name": "Python 3",
   "language": "python",
   "name": "python3"
  },
  "language_info": {
   "codemirror_mode": {
    "name": "ipython",
    "version": 3
   },
   "file_extension": ".py",
   "mimetype": "text/x-python",
   "name": "python",
   "nbconvert_exporter": "python",
   "pygments_lexer": "ipython3",
   "version": "3.6.0"
  }
 },
 "nbformat": 4,
 "nbformat_minor": 2
}
