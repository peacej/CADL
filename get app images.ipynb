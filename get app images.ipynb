{
 "cells": [
  {
   "cell_type": "code",
   "execution_count": 23,
   "metadata": {},
   "outputs": [],
   "source": [
    "import json,os\n",
    "import csv\n",
    "import io\n",
    "import pandas as pd\n",
    "import urllib\n",
    "import urllib.request\n",
    "from PIL import Image\n",
    "from resizeimage import resizeimage\n",
    "import sys\n",
    "import os"
   ]
  },
  {
   "cell_type": "code",
   "execution_count": 26,
   "metadata": {},
   "outputs": [],
   "source": [
    "game_list = []\n",
    "with open('/Users/jerrychi/Downloads/sensor_strategy.csv','r',encoding='UTF-16') as f:\n",
    "    appinfo = csv.reader(f,delimiter='\\t')\n",
    "    firstrow = appinfo.__next__()\n",
    "    app_id_index = firstrow.index('App ID')\n",
    "    app_name_index = firstrow.index('App name')\n",
    "    for row in appinfo:\n",
    "        game_list.append([row[app_id_index],row[app_name_index]])\n",
    "        \n",
    "\n",
    "    \n",
    "\n",
    "    "
   ]
  },
  {
   "cell_type": "code",
   "execution_count": 28,
   "metadata": {},
   "outputs": [
    {
     "data": {
      "text/plain": [
       "3770"
      ]
     },
     "execution_count": 28,
     "metadata": {},
     "output_type": "execute_result"
    }
   ],
   "source": [
    "len(game_list)"
   ]
  },
  {
   "cell_type": "code",
   "execution_count": 34,
   "metadata": {},
   "outputs": [],
   "source": [
    "for item in game_list[:100]:\n",
    "    id = item[0]\n",
    "    name = item[1].replace(' ','_')\n",
    "    url = 'http://itunes.apple.com/lookup?id='+id\n",
    "    response = urllib.request.urlopen(url)\n",
    "    picurl = json.loads(response.read())['results'][0]['artworkUrl100']\n",
    "    urllib.request.urlretrieve(picurl,'/Users/jerrychi/Downloads/dlpix/' + name + '.' + picurl.split('/')[-1].split('.')[-1])\n"
   ]
  },
  {
   "cell_type": "code",
   "execution_count": 35,
   "metadata": {},
   "outputs": [],
   "source": [
    "import play_scraper\n",
    "import re"
   ]
  },
  {
   "cell_type": "code",
   "execution_count": null,
   "metadata": {},
   "outputs": [],
   "source": []
  },
  {
   "cell_type": "code",
   "execution_count": null,
   "metadata": {},
   "outputs": [],
   "source": [
    "game_categories = [x for x in play_scraper.categories().keys() if 'GAME' in x]"
   ]
  },
  {
   "cell_type": "code",
   "execution_count": 34,
   "metadata": {},
   "outputs": [],
   "source": [
    "scraped = []\n",
    "for category in game_categories:\n",
    "    scraped += play_scraper.collection(collection='TRENDING',category=category,\n",
    "        results=120)"
   ]
  },
  {
   "cell_type": "code",
   "execution_count": 37,
   "metadata": {},
   "outputs": [],
   "source": [
    "def get_unique_list(data):\n",
    "    uni_data=[]\n",
    "    for dat in data:\n",
    "        if dat not in uni_data:\n",
    "            uni_data.append(dat)\n",
    "    return uni_data"
   ]
  },
  {
   "cell_type": "code",
   "execution_count": 38,
   "metadata": {},
   "outputs": [],
   "source": [
    "for app in get_unique_list(scraped):\n",
    "    title = ''.join(re.findall(r'[a-zA-Z]',app['title']))\n",
    "    urllib.request.urlretrieve(app['icon'],'/Users/jerry.chi/Downloads/dlpix/' + title + '.png')"
   ]
  },
  {
   "cell_type": "code",
   "execution_count": 24,
   "metadata": {},
   "outputs": [],
   "source": [
    "imagePaths = os.listdir('/Users/jerry.chi/Downloads/dlpix/')"
   ]
  },
  {
   "cell_type": "code",
   "execution_count": 26,
   "metadata": {},
   "outputs": [],
   "source": [
    "imagePaths = ['/Users/jerry.chi/Downloads/dlpix/' + x for x in imagePaths if x[0] != '.']"
   ]
  },
  {
   "cell_type": "code",
   "execution_count": 27,
   "metadata": {},
   "outputs": [],
   "source": [
    "for imagePath in imagePaths:\n",
    "    if has_face(imagePath):\n",
    "        with open(imagePath, 'r+b') as f:\n",
    "            with Image.open(f) as image:\n",
    "                file_name = imagePath.split('/')[-1]\n",
    "                cover = resizeimage.resize_thumbnail(image, [100, 100])\n",
    "                cover.save(f'/Users/jerry.chi/Downloads/dlpixsmall/{file_name}', image.format)"
   ]
  },
  {
   "cell_type": "code",
   "execution_count": 31,
   "metadata": {},
   "outputs": [
    {
     "data": {
      "text/plain": [
       "['GAME_ACTION',\n",
       " 'GAME_ADVENTURE',\n",
       " 'GAME_ARCADE',\n",
       " 'GAME_BOARD',\n",
       " 'GAME_CARD',\n",
       " 'GAME_CASINO',\n",
       " 'GAME_CASUAL',\n",
       " 'GAME_EDUCATIONAL',\n",
       " 'GAME_MUSIC',\n",
       " 'GAME_PUZZLE',\n",
       " 'GAME_RACING',\n",
       " 'GAME_ROLE_PLAYING',\n",
       " 'GAME_SIMULATION',\n",
       " 'GAME_SPORTS',\n",
       " 'GAME_STRATEGY',\n",
       " 'GAME_TRIVIA',\n",
       " 'GAME_WORD',\n",
       " 'FAMILY_BRAINGAMES']"
      ]
     },
     "execution_count": 31,
     "metadata": {},
     "output_type": "execute_result"
    }
   ],
   "source": [
    "game_categories"
   ]
  },
  {
   "cell_type": "code",
   "execution_count": 11,
   "metadata": {},
   "outputs": [
    {
     "ename": "AttributeError",
     "evalue": "module 'play_scraper' has no attribute 'collections'",
     "output_type": "error",
     "traceback": [
      "\u001b[0;31m---------------------------------------------------------------------------\u001b[0m",
      "\u001b[0;31mAttributeError\u001b[0m                            Traceback (most recent call last)",
      "\u001b[0;32m<ipython-input-11-253d489aef44>\u001b[0m in \u001b[0;36m<module>\u001b[0;34m()\u001b[0m\n\u001b[0;32m----> 1\u001b[0;31m \u001b[0mplay_scraper\u001b[0m\u001b[0;34m.\u001b[0m\u001b[0mcollections\u001b[0m\u001b[0;34m(\u001b[0m\u001b[0;34m)\u001b[0m\u001b[0;34m\u001b[0m\u001b[0m\n\u001b[0m",
      "\u001b[0;31mAttributeError\u001b[0m: module 'play_scraper' has no attribute 'collections'"
     ]
    }
   ],
   "source": [
    "play_scraper.categories()"
   ]
  },
  {
   "cell_type": "code",
   "execution_count": null,
   "metadata": {},
   "outputs": [],
   "source": [
    "# detect faces\n",
    "# from https://github.com/shantnu/FaceDetect/\n",
    "# https://realpython.com/face-recognition-with-python/"
   ]
  },
  {
   "cell_type": "code",
   "execution_count": 1,
   "metadata": {},
   "outputs": [],
   "source": [
    "import cv2"
   ]
  },
  {
   "cell_type": "code",
   "execution_count": 18,
   "metadata": {},
   "outputs": [],
   "source": [
    "# Create the haar cascade\n",
    "cascPath = \"./haarcascade_frontalface_default.xml\"\n",
    "faceCascade = cv2.CascadeClassifier(cascPath)"
   ]
  },
  {
   "cell_type": "code",
   "execution_count": 19,
   "metadata": {},
   "outputs": [],
   "source": [
    "def has_face(imagePath):\n",
    "    # Read the image\n",
    "    image = cv2.imread(imagePath)\n",
    "    gray = cv2.cvtColor(image, cv2.COLOR_BGR2GRAY)\n",
    "\n",
    "    # Detect faces in the image\n",
    "    faces = faceCascade.detectMultiScale(\n",
    "        gray,\n",
    "        scaleFactor=1.1,\n",
    "        minNeighbors=5,\n",
    "        minSize=(30, 30),\n",
    "        flags = cv2.CASCADE_SCALE_IMAGE\n",
    "    )\n",
    "\n",
    "    if len(faces)>0:\n",
    "        return True\n",
    "    else:\n",
    "        return False\n",
    "\n"
   ]
  },
  {
   "cell_type": "code",
   "execution_count": 10,
   "metadata": {},
   "outputs": [],
   "source": []
  },
  {
   "cell_type": "code",
   "execution_count": null,
   "metadata": {},
   "outputs": [],
   "source": []
  }
 ],
 "metadata": {
  "kernelspec": {
   "display_name": "Python 3",
   "language": "python",
   "name": "python3"
  },
  "language_info": {
   "codemirror_mode": {
    "name": "ipython",
    "version": 3
   },
   "file_extension": ".py",
   "mimetype": "text/x-python",
   "name": "python",
   "nbconvert_exporter": "python",
   "pygments_lexer": "ipython3",
   "version": "3.7.1"
  }
 },
 "nbformat": 4,
 "nbformat_minor": 2
}
